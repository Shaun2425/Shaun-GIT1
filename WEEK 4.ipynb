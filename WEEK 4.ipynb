{
    "cells": [
        {
            "cell_type": "code",
            "execution_count": null,
            "metadata": {},
            "outputs": [],
            "source": "Problem:\n    to identify the best neighbourhood in the city of newyork for real estate projects.\nSolution:\n    this problem is estential to be solved because people always prefer safer areas to settle which provides all facilities to meet their basic needs.so after identifying the best neighbourhood we can suggest the result \n    to our stake holders such that they can promote for development of the real estate projects in these areas which would turn out be a huge success.\nSteps:\n    download and explore the dataset\n    explore the neighbourhood in the newyork city\n    analyze each neighbourhood\n    cluster neighbourhoods\n    examine clusters\n    \nusing foursqare api i would first locate areas with best facilities like hospitals, school, eateries etc using respective latitude and longitude.\nfuther by clustering i would form cluster of all the areas with best facilities .\nthus i would able to display a succesfull result.\n\nthis "
        }
    ],
    "metadata": {
        "kernelspec": {
            "display_name": "Python 3.6",
            "language": "python",
            "name": "python3"
        },
        "language_info": {
            "codemirror_mode": {
                "name": "ipython",
                "version": 3
            },
            "file_extension": ".py",
            "mimetype": "text/x-python",
            "name": "python",
            "nbconvert_exporter": "python",
            "pygments_lexer": "ipython3",
            "version": "3.6.9"
        }
    },
    "nbformat": 4,
    "nbformat_minor": 1
}