{
    "cells": [
        {
            "metadata": {},
            "cell_type": "code",
            "source": "Problem:\n    to identify the best neighbourhood in the city of newyork for real estate projects.\nSolution:\n    this problem is estential to be solved because people always prefer safer areas to settle which provides all facilities to meet their basic needs.so after identifying the best neighbourhood we can suggest the result \n    to our stake holders such that they can promote for development of the real estate projects in these areas which would turn out be a huge success.\nSteps:\n    download and explore the dataset\n    explore the neighbourhood in the newyork city\n    analyze each neighbourhood\n    cluster neighbourhoods\n    examine clusters\n    \nusing foursqare api i would first locate areas with best facilities like hospitals, school, eateries etc using respective latitude and longitude.\nfuther by clustering i would form cluster of all the areas with best facilities .\nthus i would able to display a succesfull result.\n\nhere i have only stated the problem and the solution .in next link i have shared the code .",
            "execution_count": null,
            "outputs": []
        }
    ],
    "metadata": {
        "kernelspec": {
            "name": "python3",
            "display_name": "Python 3.6",
            "language": "python"
        },
        "language_info": {
            "name": "python",
            "version": "3.6.9",
            "mimetype": "text/x-python",
            "codemirror_mode": {
                "name": "ipython",
                "version": 3
            },
            "pygments_lexer": "ipython3",
            "nbconvert_exporter": "python",
            "file_extension": ".py"
        }
    },
    "nbformat": 4,
    "nbformat_minor": 1
}