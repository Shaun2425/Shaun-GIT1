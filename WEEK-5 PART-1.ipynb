{
    "cells": [
        {
            "metadata": {
                "collapsed": true
            },
            "cell_type": "markdown",
            "source": "Problem:\n    to identify the best neighbourhood in the city of newyork for real estate projects.\nData:\n    Neighborhood has a total of 5 boroughs and 306 neighborhoods. \n    In order to segement the neighborhoods and explore them, i have considered a dataset that contains the 5 boroughs and the neighborhoods that exist in each borough as well as the the latitude and longitude\n    coordinates of each neighborhood.\nMethodology:\n    for machine learning i have used k-mean clustering . so it would help us to form cluster of only those areas which would be essential  for real estate projets.\nSolution:\n    this problem is estential to be solved because people always prefer safer areas to settle which provides all facilities to meet their basic needs.so after identifying the best neighbourhood we can suggest the result \n    to our stake holders such that they can promote for development of the real estate projects in these areas which would turn out be a huge success.\nSteps:\n    download and explore the dataset\n    explore the neighbourhood in the newyork city\n    analyze each neighbourhood\n    cluster neighbourhoods\n    examine clusters\n    \nusing foursqare api i would first locate areas with best facilities like hospitals, school, eateries etc using respective latitude and longitude.\nfuther by clustering i would form cluster of all the areas with best facilities .\nthus i would able to display a succesfull result.\n\nhere i have only stated the problem and the solution .in next link i have shared the code ."
        }
    ],
    "metadata": {
        "kernelspec": {
            "name": "python3",
            "display_name": "Python 3.6",
            "language": "python"
        },
        "language_info": {
            "name": "python",
            "version": "3.6.9",
            "mimetype": "text/x-python",
            "codemirror_mode": {
                "name": "ipython",
                "version": 3
            },
            "pygments_lexer": "ipython3",
            "nbconvert_exporter": "python",
            "file_extension": ".py"
        }
    },
    "nbformat": 4,
    "nbformat_minor": 1
}